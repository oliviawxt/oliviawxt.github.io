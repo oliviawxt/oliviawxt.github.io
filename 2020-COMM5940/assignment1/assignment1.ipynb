{
 "cells": [
  {
   "cell_type": "code",
   "execution_count": 1,
   "metadata": {},
   "outputs": [
    {
     "name": "stdout",
     "output_type": "stream",
     "text": [
      "Requirement already satisfied: PyMySQL in /Users/oliviatt/opt/anaconda3/lib/python3.7/site-packages (0.9.3)\r\n"
     ]
    }
   ],
   "source": [
    "!pip install PyMySQL"
   ]
  },
  {
   "cell_type": "code",
   "execution_count": null,
   "metadata": {},
   "outputs": [],
   "source": [
    "import pymysql.cursors\n",
    "connection = pymysql.connect(host=\"localhost\",\n",
    "user=\"root\",\n",
    "passwd=\"root\",\n",
    "db=\"assignment1\",\n",
    "charset='utf8mb4', cursorclass=pymysql.cursors.DictCursor)"
   ]
  },
  {
   "cell_type": "code",
   "execution_count": 21,
   "metadata": {},
   "outputs": [
    {
     "name": "stdout",
     "output_type": "stream",
     "text": [
      "\n",
      "\n",
      "[{'me': '《长腿叔叔》', 'comments': 889, 'awards': 4, 'feedback': '66.8%', 'recommendation': '一般'}, {'me': '《我的遗愿清单》', 'comments': 1392, 'awards': 0, 'feedback': '66.3%', 'recommendation': '一般'}, {'me': '《拉赫玛尼诺夫》', 'comments': 861, 'awards': 1, 'feedback': '47.9%', 'recommendation': '一般'}, {'me': '《贝隆夫人》', 'comments': 1318, 'awards': 19, 'feedback': '64.7%', 'recommendation': '一般'}, {'me': '《放牛班的春天》', 'comments': 547, 'awards': 2, 'feedback': '59.7%', 'recommendation': '一般'}, {'me': '《水曜日》', 'comments': 1402, 'awards': 3, 'feedback': '58.8%', 'recommendation': '一般'}, {'me': '《音乐之声》', 'comments': 1826, 'awards': 0, 'feedback': '89%', 'recommendation': '值得一看'}, {'me': '《空中花园谋杀案》', 'comments': 8577, 'awards': 0, 'feedback': '77.1%', 'recommendation': '值得一看'}, {'me': '《吉屋出租RENT》', 'comments': 2721, 'awards': 13, 'feedback': '88.5%', 'recommendation': '值得一看'}, {'me': '《芝加哥》', 'comments': 7112, 'awards': 6, 'feedback': '87.3%', 'recommendation': '值得一看'}, {'me': '《白夜行》', 'comments': 3383, 'awards': 0, 'feedback': '83.7%', 'recommendation': '值得一看'}, {'me': '《巴黎圣母院》', 'comments': 14006, 'awards': 5, 'feedback': '96.1%', 'recommendation': '值得一看'}, {'me': '《泰坦尼克号》', 'comments': 840, 'awards': 5, 'feedback': '83.6%', 'recommendation': '值得一看'}, {'me': '《玛蒂尔达》', 'comments': 2796, 'awards': 12, 'feedback': '90%', 'recommendation': '值得一看'}, {'me': '《狮子王》', 'comments': 2620, 'awards': 76, 'feedback': '88%', 'recommendation': '值得一看'}, {'me': '《猫》', 'comments': 22946, 'awards': 12, 'feedback': '91.6%', 'recommendation': '值得一看'}, {'me': '《不眠之夜》', 'comments': 7471, 'awards': 3, 'feedback': '95.3%', 'recommendation': '值得一看'}, {'me': '《来自远方》', 'comments': 1371, 'awards': 1, 'feedback': '94.5%', 'recommendation': '值得一看'}, {'me': '《春之觉醒》', 'comments': 701, 'awards': 4, 'feedback': '86.9%', 'recommendation': '值得一看'}, {'me': '《爱在星光里》', 'comments': 66, 'awards': 0, 'feedback': '45.5%', 'recommendation': '数据量不足'}, {'me': '《卖火柴的小女孩》', 'comments': 45, 'awards': 10, 'feedback': '68.9%', 'recommendation': '数据量不足'}, {'me': '《阴阳师》', 'comments': 207, 'awards': 0, 'feedback': '73%', 'recommendation': '数据量不足'}, {'me': '《献给阿尔吉侬的花束》', 'comments': 0, 'awards': 0, 'feedback': 'N/A', 'recommendation': '数据量不足'}, {'me': '《当爱已成往事》', 'comments': 62, 'awards': 0, 'feedback': '41.9%', 'recommendation': '数据量不足'}, {'me': '《屈原》', 'comments': 24, 'awards': 0, 'feedback': '50%', 'recommendation': '数据量不足'}, {'me': '《面试》', 'comments': 0, 'awards': 0, 'feedback': 'N/A', 'recommendation': '数据量不足'}, {'me': '你说我容易吗之《万万不能》', 'comments': 36, 'awards': 0, 'feedback': '52.7%', 'recommendation': '数据量不足'}, {'me': '《西厢》', 'comments': 55, 'awards': 0, 'feedback': '32.8%', 'recommendation': '数据量不足'}, {'me': '《人言》', 'comments': 8, 'awards': 0, 'feedback': '33.3%', 'recommendation': '数据量不足'}, {'me': '《FLAMES火焰》', 'comments': 0, 'awards': 0, 'feedback': 'N/A', 'recommendation': '数据量不足'}, {'me': '《搭错车》', 'comments': 100, 'awards': 0, 'feedback': '36%', 'recommendation': '数据量不足'}, {'me': '《春上海1949》', 'comments': 5, 'awards': 0, 'feedback': '33.3%', 'recommendation': '数据量不足'}, {'me': '《马不停蹄的忧伤》', 'comments': 354, 'awards': 0, 'feedback': '60.5%', 'recommendation': '数据量不足'}, {'me': '《九色鹿》', 'comments': 3, 'awards': 0, 'feedback': '33.3%', 'recommendation': '数据量不足'}, {'me': '《稳稳的幸福》', 'comments': 269, 'awards': 0, 'feedback': '50.3%', 'recommendation': '数据量不足'}, {'me': '《隐婚男女》', 'comments': 398, 'awards': 0, 'feedback': '53.8%', 'recommendation': '数据量不足'}, {'me': '《故宫里的大怪兽》', 'comments': 14, 'awards': 0, 'feedback': '64.8%', 'recommendation': '数据量不足'}]\n",
      "\n",
      "\n"
     ]
    }
   ],
   "source": [
    "with connection.cursor() as cursor:\n",
    "        sql = \"SELECT * FROM musicaldata\"\n",
    "        cursor.execute(sql)\n",
    "        result = cursor.fetchall()\n",
    "        dataset = []\n",
    "        temp = {}\n",
    "        i = 0\n",
    "        for row in result:\n",
    "            temp[i] = row\n",
    "            dataset.append(temp[i])\n",
    "            i = i + 1\n",
    "        print('\\n')\n",
    "        print(dataset)\n",
    "        print('\\n')"
   ]
  },
  {
   "cell_type": "code",
   "execution_count": 16,
   "metadata": {},
   "outputs": [
    {
     "name": "stdout",
     "output_type": "stream",
     "text": [
      "[{'name': '《故宫里的大怪兽》', 'awards': 0, 'feedback': '64.8%', 'recommendation': '数据量不足', 'comments': 14}, {'name': '《隐婚男女》', 'awards': 0, 'feedback': '53.8%', 'recommendation': '数据量不足', 'comments': 398}, {'name': '《稳稳的幸福》', 'awards': 0, 'feedback': '50.3%', 'recommendation': '数据量不足', 'comments': 269}, {'name': '《九色鹿》', 'awards': 0, 'feedback': '33.3%', 'recommendation': '数据量不足', 'comments': 3}, {'name': '《马不停蹄的忧伤》', 'awards': 0, 'feedback': '60.5%', 'recommendation': '数据量不足', 'comments': 354}, {'name': '《春上海1949》', 'awards': 0, 'feedback': '33.3%', 'recommendation': '数据量不足', 'comments': 5}, {'name': '《搭错车》', 'awards': 0, 'feedback': '36%', 'recommendation': '数据量不足', 'comments': 100}, {'name': '《水曜日》', 'awards': 3, 'feedback': '58.8%', 'recommendation': '一般', 'comments': 1402}, {'name': '《放牛班的春天》', 'awards': 2, 'feedback': '59.7%', 'recommendation': '一般', 'comments': 547}, {'name': '《春之觉醒》', 'awards': 4, 'feedback': '86.9%', 'recommendation': '值得一看', 'comments': 701}, {'name': '《FLAMES火焰》', 'awards': 0, 'feedback': 'N/A', 'recommendation': '数据量不足', 'comments': 0}, {'name': '《人言》', 'awards': 0, 'feedback': '33.3%', 'recommendation': '数据量不足', 'comments': 8}, {'name': '《西厢》', 'awards': 0, 'feedback': '32.8%', 'recommendation': '数据量不足', 'comments': 55}, {'name': '《来自远方》', 'awards': 1, 'feedback': '94.5%', 'recommendation': '值得一看', 'comments': 1371}, {'name': '你说我容易吗之《万万不能》', 'awards': 0, 'feedback': '52.7%', 'recommendation': '数据量不足', 'comments': 36}, {'name': '《不眠之夜》', 'awards': 3, 'feedback': '95.3%', 'recommendation': '值得一看', 'comments': 7471}, {'name': '《猫》', 'awards': 12, 'feedback': '91.6%', 'recommendation': '值得一看', 'comments': 22946}, {'name': '《面试》', 'awards': 0, 'feedback': 'N/A', 'recommendation': '数据量不足', 'comments': 0}, {'name': '《屈原》', 'awards': 0, 'feedback': '50%', 'recommendation': '数据量不足', 'comments': 24}, {'name': '《当爱已成往事》', 'awards': 0, 'feedback': '41.9%', 'recommendation': '数据量不足', 'comments': 62}, {'name': '《狮子王》', 'awards': 76, 'feedback': '88%', 'recommendation': '值得一看', 'comments': 2620}, {'name': '《爱在星光里》', 'awards': 0, 'feedback': '45.5%', 'recommendation': '数据量不足', 'comments': 66}, {'name': '《长腿叔叔》', 'awards': 4, 'feedback': '66.8%', 'recommendation': '一般', 'comments': 889}, {'name': '《音乐之声》', 'awards': 0, 'feedback': '89%', 'recommendation': '值得一看', 'comments': 1826}, {'name': '《我的遗愿清单》', 'awards': 0, 'feedback': '66.3%', 'recommendation': '一般', 'comments': 1392}, {'name': '《拉赫玛尼诺夫》', 'awards': 1, 'feedback': '47.9%', 'recommendation': '一般', 'comments': 861}, {'name': '《卖火柴的小女孩》', 'awards': 10, 'feedback': '68.9%', 'recommendation': '数据量不足', 'comments': 45}, {'name': '《空中花园谋杀案》', 'awards': 0, 'feedback': '77.1%', 'recommendation': '值得一看', 'comments': 8577}, {'name': '《阴阳师》', 'awards': 0, 'feedback': '73%', 'recommendation': '数据量不足', 'comments': 207}, {'name': '《吉屋出租RENT》', 'awards': 13, 'feedback': '88.5%', 'recommendation': '值得一看', 'comments': 2721}, {'name': '《芝加哥》', 'awards': 6, 'feedback': '87.3%', 'recommendation': '值得一看', 'comments': 7112}, {'name': '《白夜行》', 'awards': 0, 'feedback': '83.7%', 'recommendation': '值得一看', 'comments': 3383}, {'name': '《巴黎圣母院》', 'awards': 5, 'feedback': '96.1%', 'recommendation': '值得一看', 'comments': 14006}, {'name': '《贝隆夫人》', 'awards': 19, 'feedback': '64.7%', 'recommendation': '一般', 'comments': 1318}, {'name': '《泰坦尼克号》', 'awards': 5, 'feedback': '83.6%', 'recommendation': '值得一看', 'comments': 840}, {'name': '《玛蒂尔达》', 'awards': 12, 'feedback': '90%', 'recommendation': '值得一看', 'comments': 2796}, {'name': '《献给阿尔吉侬的花束》', 'awards': 0, 'feedback': 'N/A', 'recommendation': '数据量不足', 'comments': 0}]\n",
      "\n",
      "\n",
      "['《故宫里的大怪兽》', '《隐婚男女》', '《稳稳的幸福》', '《九色鹿》', '《马不停蹄的忧伤》', '《春上海1949》', '《搭错车》', '《水曜日》', '《放牛班的春天》', '《春之觉醒》', '《FLAMES火焰》', '《人言》', '《西厢》', '《来自远方》', '你说我容易吗之《万万不能》', '《不眠之夜》', '《猫》', '《面试》', '《屈原》', '《当爱已成往事》', '《狮子王》', '《爱在星光里》', '《长腿叔叔》', '《音乐之声》', '《我的遗愿清单》', '《拉赫玛尼诺夫》', '《卖火柴的小女孩》', '《空中花园谋杀案》', '《阴阳师》', '《吉屋出租RENT》', '《芝加哥》', '《白夜行》', '《巴黎圣母院》', '《贝隆夫人》', '《泰坦尼克号》', '《玛蒂尔达》', '《献给阿尔吉侬的花束》']\n"
     ]
    }
   ],
   "source": [
    "import requests\n",
    "\n",
    "headers = {\n",
    "'Authorization': 'Bearer keyFmAJ2vrBSZ6kZH',\n",
    "}\n",
    "\n",
    "params = (\n",
    "('view', 'Grid view'),\n",
    ")\n",
    "\n",
    "r = requests.get('https://api.airtable.com/v0/apph8llhifc81kaWE/%E9%9F%B3%E4%B9%90%E5%89%A7%E7%9B%AE%E5%88%86%E6%9E%90?api_key=keyFmAJ2vrBSZ6kZH&sortField=_createdTime&sortDirection=desc', headers=headers, params=params)\n",
    "dict = r.json()\n",
    "dataset = []\n",
    "name = []\n",
    "comments = []\n",
    "awards= []\n",
    "feedback= []\n",
    "recommendation= []\n",
    "\n",
    "for i in dict['records']:\n",
    "     dict = i['fields']\n",
    "     dataset.append(dict)\n",
    "print(dataset)\n",
    "print('\\n')\n",
    "for dicts in dataset:\n",
    "    name.append(dicts.get('name'))\n",
    "    comments.append(dicts.get('comments'))\n",
    "    awards.append(dicts.get('awards'))\n",
    "    feedback.append(dicts.get('feedback'))\n",
    "    recommendation.append(dicts.get('recommendation'))\n",
    "print(name)"
   ]
  }
 ],
 "metadata": {
  "kernelspec": {
   "display_name": "Python 3",
   "language": "python",
   "name": "python3"
  },
  "language_info": {
   "codemirror_mode": {
    "name": "ipython",
    "version": 3
   },
   "file_extension": ".py",
   "mimetype": "text/x-python",
   "name": "python",
   "nbconvert_exporter": "python",
   "pygments_lexer": "ipython3",
   "version": "3.7.4"
  }
 },
 "nbformat": 4,
 "nbformat_minor": 2
}
